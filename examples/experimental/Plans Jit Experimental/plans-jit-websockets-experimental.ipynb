{
 "cells": [
  {
   "cell_type": "code",
   "execution_count": 1,
   "metadata": {},
   "outputs": [],
   "source": [
    "%load_ext autoreload\n",
    "%autoreload 2"
   ]
  },
  {
   "cell_type": "code",
   "execution_count": 2,
   "metadata": {},
   "outputs": [],
   "source": [
    "import sys\n",
    "\n",
    "import syft as sy\n",
    "from syft.workers import WebsocketClientWorker\n",
    "from syft.frameworks.torch.federated import utils\n",
    "\n",
    "import torch as th\n",
    "import torchvision\n",
    "import syft as sy\n",
    "\n",
    "hook = sy.TorchHook(th)"
   ]
  },
  {
   "cell_type": "markdown",
   "metadata": {},
   "source": [
    "## Preparation: start the websocket server workers\n",
    "\n",
    "Each worker is represented by two parts, a local handle (websocket client worker) and the remote instance that holds the data and performs the computations. The remote part is called a websocket server worker.\n",
    "\n",
    "So first, we need to create the remote workers. For this, you need to run in a terminal (not possible from the notebook):\n",
    "\n",
    "```bash\n",
    "python examples/experimental/Plans\\ Jit\\ Experimental/run_websocket_server.py --port 8777 --id alice\n",
    "```"
   ]
  },
  {
   "cell_type": "code",
   "execution_count": 3,
   "metadata": {},
   "outputs": [],
   "source": [
    "kwargs_websocket = {\"host\": \"localhost\", \"hook\": hook, \"verbose\": False}\n",
    "alice = WebsocketClientWorker(id=\"alice\", port=8777, **kwargs_websocket)"
   ]
  },
  {
   "cell_type": "markdown",
   "metadata": {},
   "source": [
    "### Create model jit trace"
   ]
  },
  {
   "cell_type": "code",
   "execution_count": 4,
   "metadata": {},
   "outputs": [],
   "source": [
    "# An instance of your model.\n",
    "model = th.nn.Linear(10, 1)\n",
    "\n",
    "# An example input you would normally provide to your model's forward() method.\n",
    "example = th.rand(1, 10)\n",
    "\n",
    "# Use torch.jit.trace to generate a torch.jit.ScriptModule via tracing.\n",
    "traced_script_module = th.jit.trace(model, example)"
   ]
  },
  {
   "cell_type": "markdown",
   "metadata": {},
   "source": [
    "### Serialization"
   ]
  },
  {
   "cell_type": "code",
   "execution_count": 5,
   "metadata": {},
   "outputs": [],
   "source": [
    "import io\n",
    "buffer = io.BytesIO()\n",
    "th.jit.save(traced_script_module, buffer)"
   ]
  },
  {
   "cell_type": "code",
   "execution_count": 6,
   "metadata": {},
   "outputs": [],
   "source": [
    "buffer_output = buffer.getvalue()"
   ]
  },
  {
   "cell_type": "code",
   "execution_count": 7,
   "metadata": {},
   "outputs": [
    {
     "data": {
      "text/plain": [
       "b'PK\\x03\\x04\\x00\\x00\\x08\\x08\\x00\\x00'"
      ]
     },
     "execution_count": 7,
     "metadata": {},
     "output_type": "execute_result"
    }
   ],
   "source": [
    "buffer_output[:10]"
   ]
  },
  {
   "cell_type": "markdown",
   "metadata": {},
   "source": [
    "### Run training on websocket worker!!!"
   ]
  },
  {
   "cell_type": "code",
   "execution_count": 8,
   "metadata": {},
   "outputs": [
    {
     "name": "stdout",
     "output_type": "stream",
     "text": [
      "() {'serialized_model': b'PK\\x03\\x04\\x00\\x00\\x08\\x08\\x00\\x00% \\xb5N\\x00\\x00\\x00\\x00\\x00\\x00\\x00\\x00\\x00\\x00\\x00\\x00\\x0f\\x00\\x13\\x00archive/versionFB\\x0f\\x00ZZZZZZZZZZZZZZZ1\\nPK\\x07\\x08S\\xfcQg\\x02\\x00\\x00\\x00\\x02\\x00\\x00\\x00PK\\x03\\x04\\x00\\x00\\x08\\x08\\x00\\x00% \\xb5N\\x00\\x00\\x00\\x00\\x00\\x00\\x00\\x00\\x00\\x00\\x00\\x00\\x17\\x009\\x00archive/code/archive.pyFB5\\x00ZZZZZZZZZZZZZZZZZZZZZZZZZZZZZZZZZZZZZZZZZZZZZZZZZZZZZop_version_set = 0\\ndef forward(self,\\n    argument_1: Tensor) -> Tensor:\\n  _0 = self.weight\\n  _1 = torch.addmm(self.bias, argument_1, torch.t(_0), beta=1, alpha=1)\\n  return _1\\nPK\\x07\\x08\\xa8\\x12\\xd5\\xef\\xaf\\x00\\x00\\x00\\xaf\\x00\\x00\\x00PK\\x03\\x04\\x00\\x00\\x08\\x08\\x00\\x00% \\xb5N\\x00\\x00\\x00\\x00\\x00\\x00\\x00\\x00\\x00\\x00\\x00\\x00\\x16\\x00\\r\\x00archive/attributes.pklFB\\t\\x00ZZZZZZZZZ\\x80\\x02(t.PK\\x07\\x08a)\\x16|\\x05\\x00\\x00\\x00\\x05\\x00\\x00\\x00PK\\x03\\x04\\x00\\x00\\x08\\x08\\x00\\x00% \\xb5N\\x00\\x00\\x00\\x00\\x00\\x00\\x00\\x00\\x00\\x00\\x00\\x00\\x11\\x00<\\x00archive/tensors/0FB8\\x00ZZZZZZZZZZZZZZZZZZZZZZZZZZZZZZZZZZZZZZZZZZZZZZZZZZZZZZZZVf\\x7f>H\\xec\\x99\\xben\\xed#>\\xf98\\x8f>p\\xfa\\x84\\xbdO\\xcfH\\xbe\\xec<\\x8a\\xbe \\xc5\\x14\\xbd\\xd6;`>\\x9f\"\\x8c\\xbePK\\x07\\x08\\x06\\x81\\xdaF(\\x00\\x00\\x00(\\x00\\x00\\x00PK\\x03\\x04\\x00\\x00\\x08\\x08\\x00\\x00% \\xb5N\\x00\\x00\\x00\\x00\\x00\\x00\\x00\\x00\\x00\\x00\\x00\\x00\\x11\\x00\\x19\\x00archive/tensors/1FB\\x15\\x00ZZZZZZZZZZZZZZZZZZZZZ`\\x965\\xbdPK\\x07\\x08\\xda\\xe1\\x1d\\xf4\\x04\\x00\\x00\\x00\\x04\\x00\\x00\\x00PK\\x03\\x04\\x00\\x00\\x08\\x08\\x00\\x00% \\xb5N\\x00\\x00\\x00\\x00\\x00\\x00\\x00\\x00\\x00\\x00\\x00\\x00\\x12\\x00<\\x00archive/model.jsonFB8\\x00ZZZZZZZZZZZZZZZZZZZZZZZZZZZZZZZZZZZZZZZZZZZZZZZZZZZZZZZZ{\"protoVersion\":\"3\",\"mainModule\":{\"torchscriptArena\":{\"key\":\"code/archive.py\"},\"parameters\":[{\"isBuffer\":false,\"tensorId\":\"0\",\"name\":\"weight\"},{\"isBuffer\":false,\"tensorId\":\"1\",\"name\":\"bias\"}],\"name\":\"archive\",\"optimize\":true},\"producerName\":\"pytorch\",\"producerVersion\":\"1.0\",\"tensors\":[{\"dims\":[\"1\",\"10\"],\"offset\":\"0\",\"strides\":[\"10\",\"1\"],\"requiresGrad\":true,\"dataType\":\"FLOAT\",\"data\":{\"key\":\"tensors/0\"},\"device\":\"cpu\"},{\"dims\":[\"1\"],\"offset\":\"0\",\"strides\":[\"1\"],\"requiresGrad\":true,\"dataType\":\"FLOAT\",\"data\":{\"key\":\"tensors/1\"},\"device\":\"cpu\"}]}PK\\x07\\x08\\xee\\xfcb\\xf1#\\x02\\x00\\x00#\\x02\\x00\\x00PK\\x01\\x02\\x00\\x00\\x00\\x00\\x08\\x08\\x00\\x00% \\xb5NS\\xfcQg\\x02\\x00\\x00\\x00\\x02\\x00\\x00\\x00\\x0f\\x00\\x00\\x00\\x00\\x00\\x00\\x00\\x00\\x00\\x00\\x00\\x00\\x00\\x00\\x00\\x00\\x00archive/versionPK\\x01\\x02\\x00\\x00\\x00\\x00\\x08\\x08\\x00\\x00% \\xb5N\\xa8\\x12\\xd5\\xef\\xaf\\x00\\x00\\x00\\xaf\\x00\\x00\\x00\\x17\\x00\\x00\\x00\\x00\\x00\\x00\\x00\\x00\\x00\\x00\\x00\\x00\\x00R\\x00\\x00\\x00archive/code/archive.pyPK\\x01\\x02\\x00\\x00\\x00\\x00\\x08\\x08\\x00\\x00% \\xb5Na)\\x16|\\x05\\x00\\x00\\x00\\x05\\x00\\x00\\x00\\x16\\x00\\x00\\x00\\x00\\x00\\x00\\x00\\x00\\x00\\x00\\x00\\x00\\x00\\x7f\\x01\\x00\\x00archive/attributes.pklPK\\x01\\x02\\x00\\x00\\x00\\x00\\x08\\x08\\x00\\x00% \\xb5N\\x06\\x81\\xdaF(\\x00\\x00\\x00(\\x00\\x00\\x00\\x11\\x00\\x00\\x00\\x00\\x00\\x00\\x00\\x00\\x00\\x00\\x00\\x00\\x00\\xd5\\x01\\x00\\x00archive/tensors/0PK\\x01\\x02\\x00\\x00\\x00\\x00\\x08\\x08\\x00\\x00% \\xb5N\\xda\\xe1\\x1d\\xf4\\x04\\x00\\x00\\x00\\x04\\x00\\x00\\x00\\x11\\x00\\x00\\x00\\x00\\x00\\x00\\x00\\x00\\x00\\x00\\x00\\x00\\x00x\\x02\\x00\\x00archive/tensors/1PK\\x01\\x02\\x00\\x00\\x00\\x00\\x08\\x08\\x00\\x00% \\xb5N\\xee\\xfcb\\xf1#\\x02\\x00\\x00#\\x02\\x00\\x00\\x12\\x00\\x00\\x00\\x00\\x00\\x00\\x00\\x00\\x00\\x00\\x00\\x00\\x00\\xd4\\x02\\x00\\x00archive/model.jsonPK\\x06\\x06,\\x00\\x00\\x00\\x00\\x00\\x00\\x00\\x1e\\x03-\\x00\\x00\\x00\\x00\\x00\\x00\\x00\\x00\\x00\\x06\\x00\\x00\\x00\\x00\\x00\\x00\\x00\\x06\\x00\\x00\\x00\\x00\\x00\\x00\\x00\\x84\\x01\\x00\\x00\\x00\\x00\\x00\\x00s\\x05\\x00\\x00\\x00\\x00\\x00\\x00PK\\x06\\x07\\x00\\x00\\x00\\x00\\xf7\\x06\\x00\\x00\\x00\\x00\\x00\\x00\\x01\\x00\\x00\\x00PK\\x05\\x06\\x00\\x00\\x00\\x00\\x06\\x00\\x06\\x00\\x84\\x01\\x00\\x00s\\x05\\x00\\x00\\x00\\x00'}\n"
     ]
    }
   ],
   "source": [
    "alice.run_script_remote(serialized_model=buffer_output)"
   ]
  },
  {
   "cell_type": "markdown",
   "metadata": {},
   "source": [
    "### Console output"
   ]
  },
  {
   "cell_type": "markdown",
   "metadata": {},
   "source": [
    "```bash\n",
    "(syft) marianne@marianne-GS63-Stealth-8RE:~/PySyft$ python examples/experimental/Plans\\ Jit\\ Experimental/run_websocket_server.py --port 8777 --id alice\n",
    "Train Epoch: 1  Loss: 0.488759\n",
    "Train Epoch: 2  Loss: 0.297361\n",
    "Train Epoch: 3  Loss: 0.180914\n",
    "Train Epoch: 4  Loss: 0.110068\n",
    "Train Epoch: 5  Loss: 0.066966\n",
    "Train Epoch: 6  Loss: 0.040742\n",
    "Train Epoch: 7  Loss: 0.024787\n",
    "Train Epoch: 8  Loss: 0.015081\n",
    "Train Epoch: 9  Loss: 0.009175\n",
    "Train Epoch: 10 Loss: 0.005582\n",
    "Total loss 0.005582111421972513\n",
    "```"
   ]
  },
  {
   "cell_type": "code",
   "execution_count": null,
   "metadata": {},
   "outputs": [],
   "source": []
  }
 ],
 "metadata": {
  "kernelspec": {
   "display_name": "Python 3",
   "language": "python",
   "name": "python3"
  },
  "language_info": {
   "codemirror_mode": {
    "name": "ipython",
    "version": 3
   },
   "file_extension": ".py",
   "mimetype": "text/x-python",
   "name": "python",
   "nbconvert_exporter": "python",
   "pygments_lexer": "ipython3",
   "version": "3.6.7"
  }
 },
 "nbformat": 4,
 "nbformat_minor": 2
}
